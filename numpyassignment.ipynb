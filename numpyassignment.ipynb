{
 "cells": [
  {
   "cell_type": "code",
   "execution_count": 1,
   "id": "3f32ec71-1037-4fd5-acfa-8b0b86a99963",
   "metadata": {},
   "outputs": [
    {
     "data": {
      "text/plain": [
       "'1.what is python library? why do we use python library\\n\\nA Python library is a collection of modules or packages containing pre-written code that can be used to \\nperform specific tasks or functions without the need to write the code from scratch. Libraries in Python are \\ndesigned to simplify and accelerate the development process by providing reusable components that can be \\neasily integrated into your programs.'"
      ]
     },
     "execution_count": 1,
     "metadata": {},
     "output_type": "execute_result"
    }
   ],
   "source": [
    "'''1.what is python library? why do we use python library\n",
    "\n",
    "A Python library is a collection of modules or packages containing pre-written code that can be used to \n",
    "perform specific tasks or functions without the need to write the code from scratch. Libraries in Python are \n",
    "designed to simplify and accelerate the development process by providing reusable components that can be \n",
    "easily integrated into your programs.'''"
   ]
  },
  {
   "cell_type": "code",
   "execution_count": 2,
   "id": "dd6e1f9a-831a-49c1-8540-a5a8c4248d77",
   "metadata": {},
   "outputs": [
    {
     "data": {
      "text/plain": [
       "'2.what is difference between numpy array and list\\nThe main difference is that NumPy arrays are much faster and have strict requirements on the homogeneity of \\nthe objects. For example, a NumPy array of strings can only contain strings and no other data types, but a\\nPython list can contain a mixture of strings, numbers, booleans and other objects.'"
      ]
     },
     "execution_count": 2,
     "metadata": {},
     "output_type": "execute_result"
    }
   ],
   "source": [
    "'''2.what is difference between numpy array and list\n",
    "The main difference is that NumPy arrays are much faster and have strict requirements on the homogeneity of \n",
    "the objects. For example, a NumPy array of strings can only contain strings and no other data types, but a\n",
    "Python list can contain a mixture of strings, numbers, booleans and other objects.'''"
   ]
  },
  {
   "cell_type": "code",
   "execution_count": 3,
   "id": "6fe4eb46-9363-4030-8c28-8d726177345d",
   "metadata": {},
   "outputs": [],
   "source": [
    "#3.find the shape,size and dimension of the following array'''\n"
   ]
  },
  {
   "cell_type": "code",
   "execution_count": 48,
   "id": "4ca84215-8a81-4387-8022-7d111ae654f1",
   "metadata": {},
   "outputs": [],
   "source": [
    "import numpy as np\n",
    "arr=np.array([[1,2,3,4],[5,6,7,8],[9,10,11,12]])"
   ]
  },
  {
   "cell_type": "code",
   "execution_count": 49,
   "id": "db0e0b4b-1a0b-4e0f-85da-2273fbe575af",
   "metadata": {},
   "outputs": [
    {
     "data": {
      "text/plain": [
       "array([[ 1,  2,  3,  4],\n",
       "       [ 5,  6,  7,  8],\n",
       "       [ 9, 10, 11, 12]])"
      ]
     },
     "execution_count": 49,
     "metadata": {},
     "output_type": "execute_result"
    }
   ],
   "source": [
    "arr"
   ]
  },
  {
   "cell_type": "code",
   "execution_count": 3,
   "id": "845b9c9d-a882-4504-8b02-f421531ec859",
   "metadata": {},
   "outputs": [
    {
     "data": {
      "text/plain": [
       "12"
      ]
     },
     "execution_count": 3,
     "metadata": {},
     "output_type": "execute_result"
    }
   ],
   "source": [
    "arr.size"
   ]
  },
  {
   "cell_type": "code",
   "execution_count": 4,
   "id": "e8eeeb29-e083-4e8f-ae9c-907cec821040",
   "metadata": {},
   "outputs": [
    {
     "data": {
      "text/plain": [
       "(3, 4)"
      ]
     },
     "execution_count": 4,
     "metadata": {},
     "output_type": "execute_result"
    }
   ],
   "source": [
    "arr.shape"
   ]
  },
  {
   "cell_type": "code",
   "execution_count": 5,
   "id": "02677abe-0eb4-4b47-b826-2bd1bfc560fb",
   "metadata": {},
   "outputs": [
    {
     "data": {
      "text/plain": [
       "2"
      ]
     },
     "execution_count": 5,
     "metadata": {},
     "output_type": "execute_result"
    }
   ],
   "source": [
    "arr.ndim"
   ]
  },
  {
   "cell_type": "code",
   "execution_count": 6,
   "id": "6d5cc1ac-2d18-4fdd-a207-4ff34ee52371",
   "metadata": {},
   "outputs": [
    {
     "data": {
      "text/plain": [
       "array([[1, 2, 3, 4]])"
      ]
     },
     "execution_count": 6,
     "metadata": {},
     "output_type": "execute_result"
    }
   ],
   "source": [
    "#4.write the python code to access the first row of the following array?'''\n",
    "arr[0:1]"
   ]
  },
  {
   "cell_type": "code",
   "execution_count": 7,
   "id": "07237aa7-77d0-4050-a2ea-25db9d2140fb",
   "metadata": {},
   "outputs": [
    {
     "data": {
      "text/plain": [
       "12"
      ]
     },
     "execution_count": 7,
     "metadata": {},
     "output_type": "execute_result"
    }
   ],
   "source": [
    "#5.how do you acess the element at the third row and fourth column form the given array \n",
    "arr[2,3]"
   ]
  },
  {
   "cell_type": "code",
   "execution_count": null,
   "id": "49d7a18a-f7d6-4f01-a60e-454a9a90e0fd",
   "metadata": {},
   "outputs": [],
   "source": [
    "#6. write the code to extract all odd indexed elements form given numpy array\n",
    "import numpy as np\n",
    "def odd_indexed(arr):\n",
    "    if arr[i]==arr[j]:\n",
    "        print(i)\n",
    "odd_indexed(arr)"
   ]
  },
  {
   "cell_type": "code",
   "execution_count": 9,
   "id": "542fcaa4-1034-4e01-966b-52c9d0c027cb",
   "metadata": {},
   "outputs": [
    {
     "data": {
      "text/plain": [
       "array([[0, 0, 0],\n",
       "       [0, 0, 0],\n",
       "       [0, 0, 0]])"
      ]
     },
     "execution_count": 9,
     "metadata": {},
     "output_type": "execute_result"
    }
   ],
   "source": [
    "#7.how can you generate a random 3x3 matrix with values between 0 and 1\n",
    "np.random.randint(0,1,size=(3,3))"
   ]
  },
  {
   "cell_type": "code",
   "execution_count": 10,
   "id": "f0e1abc0-06e9-457e-9171-67ef388c5bfd",
   "metadata": {},
   "outputs": [
    {
     "data": {
      "text/plain": [
       "'np.random.rand:\\n\\nIt generates random numbers from a uniform distribution over the interval [0, 1).\\nThe output is in the range [0, 1), and all values have an equal probability of being generated.\\n np.random.randn:                           \\nIt generates random numbers from a standard normal distribution (mean = 0, standard deviation = 1).'"
      ]
     },
     "execution_count": 10,
     "metadata": {},
     "output_type": "execute_result"
    }
   ],
   "source": [
    "#8. describe the difference np.random.rand and np.random.randn\n",
    "'''\n",
    "1.np.random.rand:\n",
    "\n",
    "It generates random numbers from a uniform distribution over the interval [0, 1).\n",
    "The output is in the range [0, 1), and all values have an equal probability of being generated.\n",
    "\n",
    "2. np.random.randn:                           \n",
    "It generates random numbers from a standard normal distribution (mean = 0, standard deviation = 1).'''"
   ]
  },
  {
   "cell_type": "code",
   "execution_count": 11,
   "id": "46cfd187-d254-4e5b-b0c4-6f54e2dab587",
   "metadata": {},
   "outputs": [
    {
     "data": {
      "text/plain": [
       "array([[ 1,  2,  3,  4],\n",
       "       [ 5,  6,  7,  8],\n",
       "       [ 9, 10, 11, 12]])"
      ]
     },
     "execution_count": 11,
     "metadata": {},
     "output_type": "execute_result"
    }
   ],
   "source": [
    "#9.write the code to increase the dimensions of following array\n",
    "arr"
   ]
  },
  {
   "cell_type": "code",
   "execution_count": 17,
   "id": "54ecb62e-53d3-4b61-ad10-7b169df49cd8",
   "metadata": {},
   "outputs": [
    {
     "data": {
      "text/plain": [
       "array([[[ 1,  2,  3,  4],\n",
       "        [ 5,  6,  7,  8],\n",
       "        [ 9, 10, 11, 12]]])"
      ]
     },
     "execution_count": 17,
     "metadata": {},
     "output_type": "execute_result"
    }
   ],
   "source": [
    "arr1=np.expand_dims(arr,axis=0)\n",
    "arr1\n"
   ]
  },
  {
   "cell_type": "code",
   "execution_count": 16,
   "id": "10b7e6bf-9b16-47d9-ae5d-929653da926a",
   "metadata": {},
   "outputs": [
    {
     "data": {
      "text/plain": [
       "3"
      ]
     },
     "execution_count": 16,
     "metadata": {},
     "output_type": "execute_result"
    }
   ],
   "source": [
    "arr1.ndim"
   ]
  },
  {
   "cell_type": "code",
   "execution_count": 18,
   "id": "4b689c0d-31f4-4aa5-aa03-b92312589d05",
   "metadata": {},
   "outputs": [
    {
     "data": {
      "text/plain": [
       "2"
      ]
     },
     "execution_count": 18,
     "metadata": {},
     "output_type": "execute_result"
    }
   ],
   "source": [
    "arr.ndim"
   ]
  },
  {
   "cell_type": "code",
   "execution_count": 20,
   "id": "c4cdea2a-2753-4470-a828-e4e5c7d98845",
   "metadata": {},
   "outputs": [
    {
     "data": {
      "text/plain": [
       "array([[ 1,  5,  9],\n",
       "       [ 2,  6, 10],\n",
       "       [ 3,  7, 11],\n",
       "       [ 4,  8, 12]])"
      ]
     },
     "execution_count": 20,
     "metadata": {},
     "output_type": "execute_result"
    }
   ],
   "source": [
    "#10.how to transpose the following array in numpy\n",
    "arr.T"
   ]
  },
  {
   "cell_type": "code",
   "execution_count": 29,
   "id": "862bab41-0bae-4a2c-a7dd-92e63941344e",
   "metadata": {},
   "outputs": [
    {
     "data": {
      "text/plain": [
       "array([[1, 2, 3],\n",
       "       [4, 5, 6],\n",
       "       [7, 8, 9]])"
      ]
     },
     "execution_count": 29,
     "metadata": {},
     "output_type": "execute_result"
    }
   ],
   "source": [
    "#11.consider the following case\n",
    "a=np.array([[1,2,3],[4,5,6],[7,8,9]])\n",
    "b=np.array([[1,2,3],[4,5,6],[7,8,9]])\n",
    "a\n"
   ]
  },
  {
   "cell_type": "code",
   "execution_count": 30,
   "id": "59d4370d-e14b-45b1-a779-e2c7ce4b5831",
   "metadata": {},
   "outputs": [
    {
     "data": {
      "text/plain": [
       "array([[1, 2, 3],\n",
       "       [4, 5, 6],\n",
       "       [7, 8, 9]])"
      ]
     },
     "execution_count": 30,
     "metadata": {},
     "output_type": "execute_result"
    }
   ],
   "source": [
    "b"
   ]
  },
  {
   "cell_type": "code",
   "execution_count": 26,
   "id": "6c92b9b1-f9fb-4340-b9a9-800d7f09e4a5",
   "metadata": {},
   "outputs": [
    {
     "data": {
      "text/plain": [
       "array([[ 1,  4,  9],\n",
       "       [16, 25, 36],\n",
       "       [49, 64, 81]])"
      ]
     },
     "execution_count": 26,
     "metadata": {},
     "output_type": "execute_result"
    }
   ],
   "source": [
    "#index wise multiplication\n",
    "a*b"
   ]
  },
  {
   "cell_type": "code",
   "execution_count": 31,
   "id": "2c8780ef-9f4f-491e-99a1-8a3fc922d8fe",
   "metadata": {},
   "outputs": [
    {
     "data": {
      "text/plain": [
       "array([[ 30,  36,  42],\n",
       "       [ 66,  81,  96],\n",
       "       [102, 126, 150]])"
      ]
     },
     "execution_count": 31,
     "metadata": {},
     "output_type": "execute_result"
    }
   ],
   "source": [
    "# matrix multiplication\n",
    "a@b"
   ]
  },
  {
   "cell_type": "code",
   "execution_count": 32,
   "id": "a9c3334d-a500-4eae-81f8-de102aef143a",
   "metadata": {},
   "outputs": [
    {
     "data": {
      "text/plain": [
       "array([[ 2,  4,  6],\n",
       "       [ 8, 10, 12],\n",
       "       [14, 16, 18]])"
      ]
     },
     "execution_count": 32,
     "metadata": {},
     "output_type": "execute_result"
    }
   ],
   "source": [
    "#add both matrices\n",
    "a+b"
   ]
  },
  {
   "cell_type": "code",
   "execution_count": 34,
   "id": "ac78eb05-877c-4926-98a0-b3e4aecc1449",
   "metadata": {},
   "outputs": [
    {
     "data": {
      "text/plain": [
       "array([[0, 0, 0],\n",
       "       [0, 0, 0],\n",
       "       [0, 0, 0]])"
      ]
     },
     "execution_count": 34,
     "metadata": {},
     "output_type": "execute_result"
    }
   ],
   "source": [
    "#subract b form a\n",
    "a-b"
   ]
  },
  {
   "cell_type": "code",
   "execution_count": 35,
   "id": "711c0781-60cb-4401-880b-6c2daeac7eee",
   "metadata": {},
   "outputs": [
    {
     "data": {
      "text/plain": [
       "array([[1., 1., 1.],\n",
       "       [1., 1., 1.],\n",
       "       [1., 1., 1.]])"
      ]
     },
     "execution_count": 35,
     "metadata": {},
     "output_type": "execute_result"
    }
   ],
   "source": [
    "#divide matrix B  by matrix A\n",
    "b/a\n"
   ]
  },
  {
   "cell_type": "code",
   "execution_count": 38,
   "id": "98ec8520-86f2-406c-9b93-176db3b3d2df",
   "metadata": {},
   "outputs": [
    {
     "data": {
      "text/plain": [
       "array([[ 72057594037927936, 144115188075855872, 216172782113783808,\n",
       "        288230376151711744],\n",
       "       [360287970189639680, 432345564227567616, 504403158265495552,\n",
       "        576460752303423488],\n",
       "       [648518346341351424, 720575940379279360, 792633534417207296,\n",
       "        864691128455135232]])"
      ]
     },
     "execution_count": 38,
     "metadata": {},
     "output_type": "execute_result"
    }
   ],
   "source": [
    "#12.which function in NumPy  can be used to swap the byte order of an array\n",
    "import numpy as np\n",
    "arr.byteswap()\n"
   ]
  },
  {
   "cell_type": "code",
   "execution_count": 50,
   "id": "48c09bfc-3f45-4a17-aaed-9e7a02cc911e",
   "metadata": {},
   "outputs": [
    {
     "name": "stdout",
     "output_type": "stream",
     "text": [
      "inveserse array [[-0.5   0.5 ]\n",
      " [ 0.5  -0.25]]\n",
      "original array [[2 4]\n",
      " [4 4]]\n"
     ]
    }
   ],
   "source": [
    "#13.what is the significance of the np.linalg. inv function\n",
    "'''The np.linalg.inv function in NumPy is used to compute the inverse of a square matrix'''\n",
    "arr1=np.array([[2,4],[4,4]])\n",
    "inverse_arr=np.linalg.inv(arr1)\n",
    "print('inveserse array',inverse_arr)\n",
    "print('original array',arr1)"
   ]
  },
  {
   "cell_type": "code",
   "execution_count": 53,
   "id": "9ba751b8-eb08-4247-aee0-75ab88c9f2c2",
   "metadata": {},
   "outputs": [
    {
     "data": {
      "text/plain": [
       "array([[ 1,  2,  3,  4,  5,  6,  7,  8,  9, 10, 11, 12]])"
      ]
     },
     "execution_count": 53,
     "metadata": {},
     "output_type": "execute_result"
    }
   ],
   "source": [
    "#14.what does np.reshape function do, and how it is used\n",
    "#The np.reshape function in NumPy is used to change the shape of an array without changing its data.\n",
    "arr.reshape(1,12)"
   ]
  },
  {
   "cell_type": "code",
   "execution_count": 55,
   "id": "ba6e5e87-e245-46f7-8018-8d55a7026326",
   "metadata": {},
   "outputs": [
    {
     "name": "stdout",
     "output_type": "stream",
     "text": [
      "Array A:\n",
      "[[1 2 3]\n",
      " [4 5 6]]\n",
      "\n",
      "Array B:\n",
      "[10 20 30]\n",
      "\n",
      "Result after broadcasting:\n",
      "[[11 22 33]\n",
      " [14 25 36]]\n"
     ]
    }
   ],
   "source": [
    "#15.what is broadcasting in Numpy\n",
    "'''\n",
    "Broadcasting in NumPy is a powerful feature that allows arrays of different shapes and sizes to be \n",
    "combined in arithmetic operations. Broadcasting automatically expands the smaller array to match the\n",
    "shape of the larger array, so that element-wise operations can be performed without the need for\n",
    "explicit reshaping or copying of data.\n",
    "\n",
    "The basic rule of broadcasting is that the dimensions of the arrays should be compatible. \n",
    "Two dimensions are considered compatible when:\n",
    "\n",
    "They are equal.\n",
    "One of them is 1.'''\n",
    "import numpy as np\n",
    "\n",
    "# Create a 2x3 array\n",
    "A = np.array([[1, 2, 3],\n",
    "              [4, 5, 6]])\n",
    "\n",
    "# Create a 1x3 array\n",
    "B = np.array([10, 20, 30])\n",
    "\n",
    "# Broadcasting: B is automatically expanded to match the shape of A\n",
    "result = A + B\n",
    "\n",
    "print(\"Array A:\")\n",
    "print(A)\n",
    "\n",
    "print(\"\\nArray B:\")\n",
    "print(B)\n",
    "\n",
    "print(\"\\nResult after broadcasting:\")\n",
    "print(result)\n"
   ]
  },
  {
   "cell_type": "code",
   "execution_count": null,
   "id": "873ba0ee-43b4-4ca6-8b3b-1262222adba3",
   "metadata": {},
   "outputs": [],
   "source": []
  }
 ],
 "metadata": {
  "kernelspec": {
   "display_name": "Python 3 (ipykernel)",
   "language": "python",
   "name": "python3"
  },
  "language_info": {
   "codemirror_mode": {
    "name": "ipython",
    "version": 3
   },
   "file_extension": ".py",
   "mimetype": "text/x-python",
   "name": "python",
   "nbconvert_exporter": "python",
   "pygments_lexer": "ipython3",
   "version": "3.10.8"
  }
 },
 "nbformat": 4,
 "nbformat_minor": 5
}
